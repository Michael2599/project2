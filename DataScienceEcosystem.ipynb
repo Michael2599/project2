{
 "cells": [
  {
   "cell_type": "markdown",
   "id": "d2a0892e",
   "metadata": {},
   "source": [
    "# Data Science Tools and Ecosystem"
   ]
  },
  {
   "cell_type": "markdown",
   "id": "d967449b",
   "metadata": {},
   "source": [
    "## In this notebook, Data Science Tools and Ecosystem are Summarized"
   ]
  },
  {
   "cell_type": "markdown",
   "id": "08828e41",
   "metadata": {},
   "source": [
    "### Some of the popular languages that Data scientists use are:\n",
    "1. Python\n",
    "2. R\n",
    "3. SQL"
   ]
  },
  {
   "cell_type": "markdown",
   "id": "1122192f",
   "metadata": {},
   "source": [
    "### Some of the commonly used libraries by Data scientist include:\n",
    "1. NumPy\n",
    "2. Pandas\n",
    "3. TensorFlow"
   ]
  },
  {
   "cell_type": "markdown",
   "id": "83f4b343",
   "metadata": {},
   "source": [
    "| Data Science Tools |\n",
    "\n",
    "|      Rstudio       |\n",
    "\n",
    "|     Apache Spark   |\n",
    "\n",
    "|    Apache Hadoop   |"
   ]
  },
  {
   "cell_type": "markdown",
   "id": "cd293a10",
   "metadata": {},
   "source": [
    "### Below are a few examples of evaluating arithemetic expression in python "
   ]
  },
  {
   "cell_type": "code",
   "execution_count": 2,
   "id": "9ca6729f",
   "metadata": {},
   "outputs": [
    {
     "data": {
      "text/plain": [
       "17"
      ]
     },
     "execution_count": 2,
     "metadata": {},
     "output_type": "execute_result"
    }
   ],
   "source": [
    "# This is a simple arithemetic expression to multiply then add integers\n",
    "(3 * 4) + 5"
   ]
  },
  {
   "cell_type": "markdown",
   "id": "f864a41f",
   "metadata": {},
   "source": [
    "## Author\n",
    "Ogundiran Michael"
   ]
  },
  {
   "cell_type": "code",
   "execution_count": 1,
   "id": "8e3eab5d",
   "metadata": {},
   "outputs": [
    {
     "name": "stdout",
     "output_type": "stream",
     "text": [
      "3.3333333333333335\n"
     ]
    }
   ],
   "source": [
    "# This will convert 200 minutues to hour by dividing by 60\n",
    "minutes = 200\n",
    "hours = minutes / 60\n",
    "print(hours)"
   ]
  },
  {
   "cell_type": "markdown",
   "id": "bb854fae",
   "metadata": {},
   "source": [
    "**Objectives:**\n",
    "- List Popular Languages for Data Science\n",
    "- List the libraries used in Data Science\n",
    "- List the Open Source tools used in Data science\n"
   ]
  },
  {
   "cell_type": "code",
   "execution_count": null,
   "id": "0918635c",
   "metadata": {},
   "outputs": [],
   "source": []
  }
 ],
 "metadata": {
  "kernelspec": {
   "display_name": "Python 3 (ipykernel)",
   "language": "python",
   "name": "python3"
  },
  "language_info": {
   "codemirror_mode": {
    "name": "ipython",
    "version": 3
   },
   "file_extension": ".py",
   "mimetype": "text/x-python",
   "name": "python",
   "nbconvert_exporter": "python",
   "pygments_lexer": "ipython3",
   "version": "3.11.4"
  }
 },
 "nbformat": 4,
 "nbformat_minor": 5
}
